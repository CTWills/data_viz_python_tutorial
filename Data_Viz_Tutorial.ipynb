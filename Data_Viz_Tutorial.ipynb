{
 "cells": [
  {
   "cell_type": "markdown",
   "metadata": {},
   "source": [
    "# Data Visualization in Python\n",
    "Take data and turn it into something colorful, graphical and meaningful :) \n"
   ]
  },
  {
   "cell_type": "markdown",
   "metadata": {},
   "source": [
    "## Intro\n",
    "Data visualization allows data scientists to graphically represent data to extract and understand trends, outliers, patterns and further insights in the data.\n",
    "\n",
    "Python has many **many** graphing libraries with different features and it can be daunting to know which library to use.  This intro tutorial will focus on a few popular plotting libraries:\n",
    "* **Pandas** - built on Matplotlib and easy to use with Pandas dataframes\n",
    "* **Matplotlib** - massive library with lots of flexibility (stackoverflow will be your friend!)\n",
    "* **Seaborn** - statistical visualization with default themes and beautiful styles\n",
    "\n",
    "For interactive plots and possibly a feature tutorial\n",
    "* Plotly\n",
    "* D3\n",
    "* Bokeh\n",
    "\n",
    "\n",
    "This tutorial compares Matplotlib, Pandas and Seaborn for the following visualizations:\n",
    "* Scatter Plots \n",
    "* Line Charts \n",
    "* Histograms \n",
    "* Bar Charts \n",
    "* Box Plots \n",
    "* Pie Charts \n",
    "* Heatmaps \n",
    "* Faceting\n",
    "* Pairplots\n",
    "\n"
   ]
  },
  {
   "cell_type": "markdown",
   "metadata": {},
   "source": [
    "### Setup \n",
    "Personally, I prefer to use a Conda environment and/or Docker container (if you are interested in knowing more about these setups let me know).  The README includes the specific packages you will need for this tutorial.  Please make sure you can run the following line without any errors."
   ]
  },
  {
   "cell_type": "code",
   "execution_count": 1,
   "metadata": {},
   "outputs": [],
   "source": [
    "## Import packages\n",
    "import pandas as pd\n",
    "import numpy as np\n",
    "import matplotlib.pyplot as plt\n",
    "import seaborn as sns\n",
    "from sklearn.datasets import load_wine, load_iris\n",
    "\n",
    "%matplotlib inline"
   ]
  },
  {
   "cell_type": "markdown",
   "metadata": {},
   "source": [
    "## Data \n",
    "Scikit-learn includes out of the box [datasets](https://scikit-learn.org/stable/datasets/index.html#]) which are great for practicing your data visualization skills.  We will use the classic wine and iris datasets - imported above.\n",
    "\n",
    "Since most of the plotting libraries play very nicely with Pandas DataFrames, we will format the *wine* and *iris* dataset with Pandas.\n"
   ]
  },
  {
   "cell_type": "code",
   "execution_count": 11,
   "metadata": {},
   "outputs": [
    {
     "data": {
      "text/html": [
       "<div>\n",
       "<style scoped>\n",
       "    .dataframe tbody tr th:only-of-type {\n",
       "        vertical-align: middle;\n",
       "    }\n",
       "\n",
       "    .dataframe tbody tr th {\n",
       "        vertical-align: top;\n",
       "    }\n",
       "\n",
       "    .dataframe thead th {\n",
       "        text-align: right;\n",
       "    }\n",
       "</style>\n",
       "<table border=\"1\" class=\"dataframe\">\n",
       "  <thead>\n",
       "    <tr style=\"text-align: right;\">\n",
       "      <th></th>\n",
       "      <th>alcohol</th>\n",
       "      <th>malic_acid</th>\n",
       "      <th>ash</th>\n",
       "      <th>alcalinity_of_ash</th>\n",
       "      <th>magnesium</th>\n",
       "      <th>total_phenols</th>\n",
       "      <th>flavanoids</th>\n",
       "      <th>nonflavanoid_phenols</th>\n",
       "      <th>proanthocyanins</th>\n",
       "      <th>color_intensity</th>\n",
       "      <th>hue</th>\n",
       "      <th>od280/od315_of_diluted_wines</th>\n",
       "      <th>proline</th>\n",
       "      <th>target</th>\n",
       "      <th>class</th>\n",
       "    </tr>\n",
       "  </thead>\n",
       "  <tbody>\n",
       "    <tr>\n",
       "      <th>0</th>\n",
       "      <td>14.23</td>\n",
       "      <td>1.71</td>\n",
       "      <td>2.43</td>\n",
       "      <td>15.6</td>\n",
       "      <td>127.0</td>\n",
       "      <td>2.80</td>\n",
       "      <td>3.06</td>\n",
       "      <td>0.28</td>\n",
       "      <td>2.29</td>\n",
       "      <td>5.64</td>\n",
       "      <td>1.04</td>\n",
       "      <td>3.92</td>\n",
       "      <td>1065.0</td>\n",
       "      <td>0.0</td>\n",
       "      <td>class_0</td>\n",
       "    </tr>\n",
       "    <tr>\n",
       "      <th>1</th>\n",
       "      <td>13.20</td>\n",
       "      <td>1.78</td>\n",
       "      <td>2.14</td>\n",
       "      <td>11.2</td>\n",
       "      <td>100.0</td>\n",
       "      <td>2.65</td>\n",
       "      <td>2.76</td>\n",
       "      <td>0.26</td>\n",
       "      <td>1.28</td>\n",
       "      <td>4.38</td>\n",
       "      <td>1.05</td>\n",
       "      <td>3.40</td>\n",
       "      <td>1050.0</td>\n",
       "      <td>0.0</td>\n",
       "      <td>class_0</td>\n",
       "    </tr>\n",
       "    <tr>\n",
       "      <th>2</th>\n",
       "      <td>13.16</td>\n",
       "      <td>2.36</td>\n",
       "      <td>2.67</td>\n",
       "      <td>18.6</td>\n",
       "      <td>101.0</td>\n",
       "      <td>2.80</td>\n",
       "      <td>3.24</td>\n",
       "      <td>0.30</td>\n",
       "      <td>2.81</td>\n",
       "      <td>5.68</td>\n",
       "      <td>1.03</td>\n",
       "      <td>3.17</td>\n",
       "      <td>1185.0</td>\n",
       "      <td>0.0</td>\n",
       "      <td>class_0</td>\n",
       "    </tr>\n",
       "    <tr>\n",
       "      <th>3</th>\n",
       "      <td>14.37</td>\n",
       "      <td>1.95</td>\n",
       "      <td>2.50</td>\n",
       "      <td>16.8</td>\n",
       "      <td>113.0</td>\n",
       "      <td>3.85</td>\n",
       "      <td>3.49</td>\n",
       "      <td>0.24</td>\n",
       "      <td>2.18</td>\n",
       "      <td>7.80</td>\n",
       "      <td>0.86</td>\n",
       "      <td>3.45</td>\n",
       "      <td>1480.0</td>\n",
       "      <td>0.0</td>\n",
       "      <td>class_0</td>\n",
       "    </tr>\n",
       "    <tr>\n",
       "      <th>4</th>\n",
       "      <td>13.24</td>\n",
       "      <td>2.59</td>\n",
       "      <td>2.87</td>\n",
       "      <td>21.0</td>\n",
       "      <td>118.0</td>\n",
       "      <td>2.80</td>\n",
       "      <td>2.69</td>\n",
       "      <td>0.39</td>\n",
       "      <td>1.82</td>\n",
       "      <td>4.32</td>\n",
       "      <td>1.04</td>\n",
       "      <td>2.93</td>\n",
       "      <td>735.0</td>\n",
       "      <td>0.0</td>\n",
       "      <td>class_0</td>\n",
       "    </tr>\n",
       "  </tbody>\n",
       "</table>\n",
       "</div>"
      ],
      "text/plain": [
       "   alcohol  malic_acid   ash  alcalinity_of_ash  magnesium  total_phenols  \\\n",
       "0    14.23        1.71  2.43               15.6      127.0           2.80   \n",
       "1    13.20        1.78  2.14               11.2      100.0           2.65   \n",
       "2    13.16        2.36  2.67               18.6      101.0           2.80   \n",
       "3    14.37        1.95  2.50               16.8      113.0           3.85   \n",
       "4    13.24        2.59  2.87               21.0      118.0           2.80   \n",
       "\n",
       "   flavanoids  nonflavanoid_phenols  proanthocyanins  color_intensity   hue  \\\n",
       "0        3.06                  0.28             2.29             5.64  1.04   \n",
       "1        2.76                  0.26             1.28             4.38  1.05   \n",
       "2        3.24                  0.30             2.81             5.68  1.03   \n",
       "3        3.49                  0.24             2.18             7.80  0.86   \n",
       "4        2.69                  0.39             1.82             4.32  1.04   \n",
       "\n",
       "   od280/od315_of_diluted_wines  proline  target    class  \n",
       "0                          3.92   1065.0     0.0  class_0  \n",
       "1                          3.40   1050.0     0.0  class_0  \n",
       "2                          3.17   1185.0     0.0  class_0  \n",
       "3                          3.45   1480.0     0.0  class_0  \n",
       "4                          2.93    735.0     0.0  class_0  "
      ]
     },
     "execution_count": 11,
     "metadata": {},
     "output_type": "execute_result"
    }
   ],
   "source": [
    "# Load the wine data set into a Pandas dataframe and view the first 5 rows\n",
    "wine = load_wine()\n",
    "wine_df = pd.DataFrame(data= np.c_[wine.data, wine.target],\n",
    "                 columns= list(wine.feature_names) + ['target'])\n",
    "# Add class label\n",
    "wine_df['class'] = pd.Categorical.from_codes(wine.target, wine.target_names)\n",
    "\n",
    "# Show the top 5 rows of Dataframe\n",
    "wine_df.head(5)"
   ]
  },
  {
   "cell_type": "code",
   "execution_count": 12,
   "metadata": {},
   "outputs": [
    {
     "data": {
      "text/html": [
       "<div>\n",
       "<style scoped>\n",
       "    .dataframe tbody tr th:only-of-type {\n",
       "        vertical-align: middle;\n",
       "    }\n",
       "\n",
       "    .dataframe tbody tr th {\n",
       "        vertical-align: top;\n",
       "    }\n",
       "\n",
       "    .dataframe thead th {\n",
       "        text-align: right;\n",
       "    }\n",
       "</style>\n",
       "<table border=\"1\" class=\"dataframe\">\n",
       "  <thead>\n",
       "    <tr style=\"text-align: right;\">\n",
       "      <th></th>\n",
       "      <th>sepal length (cm)</th>\n",
       "      <th>sepal width (cm)</th>\n",
       "      <th>petal length (cm)</th>\n",
       "      <th>petal width (cm)</th>\n",
       "      <th>target</th>\n",
       "      <th>class</th>\n",
       "    </tr>\n",
       "  </thead>\n",
       "  <tbody>\n",
       "    <tr>\n",
       "      <th>0</th>\n",
       "      <td>5.1</td>\n",
       "      <td>3.5</td>\n",
       "      <td>1.4</td>\n",
       "      <td>0.2</td>\n",
       "      <td>0.0</td>\n",
       "      <td>setosa</td>\n",
       "    </tr>\n",
       "    <tr>\n",
       "      <th>1</th>\n",
       "      <td>4.9</td>\n",
       "      <td>3.0</td>\n",
       "      <td>1.4</td>\n",
       "      <td>0.2</td>\n",
       "      <td>0.0</td>\n",
       "      <td>setosa</td>\n",
       "    </tr>\n",
       "    <tr>\n",
       "      <th>2</th>\n",
       "      <td>4.7</td>\n",
       "      <td>3.2</td>\n",
       "      <td>1.3</td>\n",
       "      <td>0.2</td>\n",
       "      <td>0.0</td>\n",
       "      <td>setosa</td>\n",
       "    </tr>\n",
       "    <tr>\n",
       "      <th>3</th>\n",
       "      <td>4.6</td>\n",
       "      <td>3.1</td>\n",
       "      <td>1.5</td>\n",
       "      <td>0.2</td>\n",
       "      <td>0.0</td>\n",
       "      <td>setosa</td>\n",
       "    </tr>\n",
       "    <tr>\n",
       "      <th>4</th>\n",
       "      <td>5.0</td>\n",
       "      <td>3.6</td>\n",
       "      <td>1.4</td>\n",
       "      <td>0.2</td>\n",
       "      <td>0.0</td>\n",
       "      <td>setosa</td>\n",
       "    </tr>\n",
       "  </tbody>\n",
       "</table>\n",
       "</div>"
      ],
      "text/plain": [
       "   sepal length (cm)  sepal width (cm)  petal length (cm)  petal width (cm)  \\\n",
       "0                5.1               3.5                1.4               0.2   \n",
       "1                4.9               3.0                1.4               0.2   \n",
       "2                4.7               3.2                1.3               0.2   \n",
       "3                4.6               3.1                1.5               0.2   \n",
       "4                5.0               3.6                1.4               0.2   \n",
       "\n",
       "   target   class  \n",
       "0     0.0  setosa  \n",
       "1     0.0  setosa  \n",
       "2     0.0  setosa  \n",
       "3     0.0  setosa  \n",
       "4     0.0  setosa  "
      ]
     },
     "execution_count": 12,
     "metadata": {},
     "output_type": "execute_result"
    }
   ],
   "source": [
    "# Load the iris data set into a Pandas dataframe and view the first 5 rows\n",
    "iris = load_iris()\n",
    "iris_df =  pd.DataFrame(data= np.c_[iris.data, iris.target],\n",
    "                 columns= list(iris.feature_names) + ['target'])\n",
    "\n",
    "# Add class label\n",
    "iris_df['class'] = pd.Categorical.from_codes(iris.target, iris.target_names)\n",
    "\n",
    "# Show the top 5 rows of Dataframe\n",
    "iris_df.head(5)"
   ]
  },
  {
   "cell_type": "markdown",
   "metadata": {},
   "source": [
    "### Pandas DataFrame Descriptive Statistics\n",
    "Don't forget to understand the statistics of your data!  You can also stylize your dataframe like you might in a csv.  There are ways to add visual impact to quantitative data.\n",
    "\n",
    "If you need a brief statistical refresher especially in the context of Python please see [Python Statistics Fundamentals: How to Describe Your Data](https://realpython.com/python-statistics/)."
   ]
  },
  {
   "cell_type": "code",
   "execution_count": 13,
   "metadata": {},
   "outputs": [
    {
     "data": {
      "text/html": [
       "<div>\n",
       "<style scoped>\n",
       "    .dataframe tbody tr th:only-of-type {\n",
       "        vertical-align: middle;\n",
       "    }\n",
       "\n",
       "    .dataframe tbody tr th {\n",
       "        vertical-align: top;\n",
       "    }\n",
       "\n",
       "    .dataframe thead th {\n",
       "        text-align: right;\n",
       "    }\n",
       "</style>\n",
       "<table border=\"1\" class=\"dataframe\">\n",
       "  <thead>\n",
       "    <tr style=\"text-align: right;\">\n",
       "      <th></th>\n",
       "      <th>alcohol</th>\n",
       "      <th>malic_acid</th>\n",
       "      <th>ash</th>\n",
       "      <th>alcalinity_of_ash</th>\n",
       "      <th>magnesium</th>\n",
       "      <th>total_phenols</th>\n",
       "      <th>flavanoids</th>\n",
       "      <th>nonflavanoid_phenols</th>\n",
       "      <th>proanthocyanins</th>\n",
       "      <th>color_intensity</th>\n",
       "      <th>hue</th>\n",
       "      <th>od280/od315_of_diluted_wines</th>\n",
       "      <th>proline</th>\n",
       "      <th>target</th>\n",
       "    </tr>\n",
       "  </thead>\n",
       "  <tbody>\n",
       "    <tr>\n",
       "      <th>count</th>\n",
       "      <td>178.000000</td>\n",
       "      <td>178.000000</td>\n",
       "      <td>178.000000</td>\n",
       "      <td>178.000000</td>\n",
       "      <td>178.000000</td>\n",
       "      <td>178.000000</td>\n",
       "      <td>178.000000</td>\n",
       "      <td>178.000000</td>\n",
       "      <td>178.000000</td>\n",
       "      <td>178.000000</td>\n",
       "      <td>178.000000</td>\n",
       "      <td>178.000000</td>\n",
       "      <td>178.000000</td>\n",
       "      <td>178.000000</td>\n",
       "    </tr>\n",
       "    <tr>\n",
       "      <th>mean</th>\n",
       "      <td>13.000618</td>\n",
       "      <td>2.336348</td>\n",
       "      <td>2.366517</td>\n",
       "      <td>19.494944</td>\n",
       "      <td>99.741573</td>\n",
       "      <td>2.295112</td>\n",
       "      <td>2.029270</td>\n",
       "      <td>0.361854</td>\n",
       "      <td>1.590899</td>\n",
       "      <td>5.058090</td>\n",
       "      <td>0.957449</td>\n",
       "      <td>2.611685</td>\n",
       "      <td>746.893258</td>\n",
       "      <td>0.938202</td>\n",
       "    </tr>\n",
       "    <tr>\n",
       "      <th>std</th>\n",
       "      <td>0.811827</td>\n",
       "      <td>1.117146</td>\n",
       "      <td>0.274344</td>\n",
       "      <td>3.339564</td>\n",
       "      <td>14.282484</td>\n",
       "      <td>0.625851</td>\n",
       "      <td>0.998859</td>\n",
       "      <td>0.124453</td>\n",
       "      <td>0.572359</td>\n",
       "      <td>2.318286</td>\n",
       "      <td>0.228572</td>\n",
       "      <td>0.709990</td>\n",
       "      <td>314.907474</td>\n",
       "      <td>0.775035</td>\n",
       "    </tr>\n",
       "    <tr>\n",
       "      <th>min</th>\n",
       "      <td>11.030000</td>\n",
       "      <td>0.740000</td>\n",
       "      <td>1.360000</td>\n",
       "      <td>10.600000</td>\n",
       "      <td>70.000000</td>\n",
       "      <td>0.980000</td>\n",
       "      <td>0.340000</td>\n",
       "      <td>0.130000</td>\n",
       "      <td>0.410000</td>\n",
       "      <td>1.280000</td>\n",
       "      <td>0.480000</td>\n",
       "      <td>1.270000</td>\n",
       "      <td>278.000000</td>\n",
       "      <td>0.000000</td>\n",
       "    </tr>\n",
       "    <tr>\n",
       "      <th>25%</th>\n",
       "      <td>12.362500</td>\n",
       "      <td>1.602500</td>\n",
       "      <td>2.210000</td>\n",
       "      <td>17.200000</td>\n",
       "      <td>88.000000</td>\n",
       "      <td>1.742500</td>\n",
       "      <td>1.205000</td>\n",
       "      <td>0.270000</td>\n",
       "      <td>1.250000</td>\n",
       "      <td>3.220000</td>\n",
       "      <td>0.782500</td>\n",
       "      <td>1.937500</td>\n",
       "      <td>500.500000</td>\n",
       "      <td>0.000000</td>\n",
       "    </tr>\n",
       "    <tr>\n",
       "      <th>50%</th>\n",
       "      <td>13.050000</td>\n",
       "      <td>1.865000</td>\n",
       "      <td>2.360000</td>\n",
       "      <td>19.500000</td>\n",
       "      <td>98.000000</td>\n",
       "      <td>2.355000</td>\n",
       "      <td>2.135000</td>\n",
       "      <td>0.340000</td>\n",
       "      <td>1.555000</td>\n",
       "      <td>4.690000</td>\n",
       "      <td>0.965000</td>\n",
       "      <td>2.780000</td>\n",
       "      <td>673.500000</td>\n",
       "      <td>1.000000</td>\n",
       "    </tr>\n",
       "    <tr>\n",
       "      <th>75%</th>\n",
       "      <td>13.677500</td>\n",
       "      <td>3.082500</td>\n",
       "      <td>2.557500</td>\n",
       "      <td>21.500000</td>\n",
       "      <td>107.000000</td>\n",
       "      <td>2.800000</td>\n",
       "      <td>2.875000</td>\n",
       "      <td>0.437500</td>\n",
       "      <td>1.950000</td>\n",
       "      <td>6.200000</td>\n",
       "      <td>1.120000</td>\n",
       "      <td>3.170000</td>\n",
       "      <td>985.000000</td>\n",
       "      <td>2.000000</td>\n",
       "    </tr>\n",
       "    <tr>\n",
       "      <th>max</th>\n",
       "      <td>14.830000</td>\n",
       "      <td>5.800000</td>\n",
       "      <td>3.230000</td>\n",
       "      <td>30.000000</td>\n",
       "      <td>162.000000</td>\n",
       "      <td>3.880000</td>\n",
       "      <td>5.080000</td>\n",
       "      <td>0.660000</td>\n",
       "      <td>3.580000</td>\n",
       "      <td>13.000000</td>\n",
       "      <td>1.710000</td>\n",
       "      <td>4.000000</td>\n",
       "      <td>1680.000000</td>\n",
       "      <td>2.000000</td>\n",
       "    </tr>\n",
       "  </tbody>\n",
       "</table>\n",
       "</div>"
      ],
      "text/plain": [
       "          alcohol  malic_acid         ash  alcalinity_of_ash   magnesium  \\\n",
       "count  178.000000  178.000000  178.000000         178.000000  178.000000   \n",
       "mean    13.000618    2.336348    2.366517          19.494944   99.741573   \n",
       "std      0.811827    1.117146    0.274344           3.339564   14.282484   \n",
       "min     11.030000    0.740000    1.360000          10.600000   70.000000   \n",
       "25%     12.362500    1.602500    2.210000          17.200000   88.000000   \n",
       "50%     13.050000    1.865000    2.360000          19.500000   98.000000   \n",
       "75%     13.677500    3.082500    2.557500          21.500000  107.000000   \n",
       "max     14.830000    5.800000    3.230000          30.000000  162.000000   \n",
       "\n",
       "       total_phenols  flavanoids  nonflavanoid_phenols  proanthocyanins  \\\n",
       "count     178.000000  178.000000            178.000000       178.000000   \n",
       "mean        2.295112    2.029270              0.361854         1.590899   \n",
       "std         0.625851    0.998859              0.124453         0.572359   \n",
       "min         0.980000    0.340000              0.130000         0.410000   \n",
       "25%         1.742500    1.205000              0.270000         1.250000   \n",
       "50%         2.355000    2.135000              0.340000         1.555000   \n",
       "75%         2.800000    2.875000              0.437500         1.950000   \n",
       "max         3.880000    5.080000              0.660000         3.580000   \n",
       "\n",
       "       color_intensity         hue  od280/od315_of_diluted_wines      proline  \\\n",
       "count       178.000000  178.000000                    178.000000   178.000000   \n",
       "mean          5.058090    0.957449                      2.611685   746.893258   \n",
       "std           2.318286    0.228572                      0.709990   314.907474   \n",
       "min           1.280000    0.480000                      1.270000   278.000000   \n",
       "25%           3.220000    0.782500                      1.937500   500.500000   \n",
       "50%           4.690000    0.965000                      2.780000   673.500000   \n",
       "75%           6.200000    1.120000                      3.170000   985.000000   \n",
       "max          13.000000    1.710000                      4.000000  1680.000000   \n",
       "\n",
       "           target  \n",
       "count  178.000000  \n",
       "mean     0.938202  \n",
       "std      0.775035  \n",
       "min      0.000000  \n",
       "25%      0.000000  \n",
       "50%      1.000000  \n",
       "75%      2.000000  \n",
       "max      2.000000  "
      ]
     },
     "execution_count": 13,
     "metadata": {},
     "output_type": "execute_result"
    }
   ],
   "source": [
    "# Generate descriptive statistics of your DataFrame\n",
    "wine_df.describe()"
   ]
  },
  {
   "cell_type": "code",
   "execution_count": 25,
   "metadata": {},
   "outputs": [
    {
     "data": {
      "text/html": [
       "<style type=\"text/css\">\n",
       "#T_fa7d6_row0_col0 {\n",
       "  background-color: #f3fafc;\n",
       "  color: #000000;\n",
       "}\n",
       "#T_fa7d6_row0_col2 {\n",
       "  background-color: #84cfb9;\n",
       "  color: #000000;\n",
       "}\n",
       "#T_fa7d6_row0_col4 {\n",
       "  background-color: red;\n",
       "}\n",
       "#T_fa7d6_row0_col6 {\n",
       "  background-color: #dff3f5;\n",
       "  color: #000000;\n",
       "}\n",
       "#T_fa7d6_row1_col0, #T_fa7d6_row2_col2, #T_fa7d6_row3_col6 {\n",
       "  background-color: #00441b;\n",
       "  color: #f1f1f1;\n",
       "}\n",
       "#T_fa7d6_row1_col2 {\n",
       "  background-color: #0b7734;\n",
       "  color: #f1f1f1;\n",
       "}\n",
       "#T_fa7d6_row1_col6, #T_fa7d6_row3_col2, #T_fa7d6_row4_col0 {\n",
       "  background-color: #f7fcfd;\n",
       "  color: #000000;\n",
       "}\n",
       "#T_fa7d6_row2_col0 {\n",
       "  background-color: #92d5c4;\n",
       "  color: #000000;\n",
       "}\n",
       "#T_fa7d6_row2_col6 {\n",
       "  background-color: #54b88e;\n",
       "  color: #f1f1f1;\n",
       "}\n",
       "#T_fa7d6_row3_col0 {\n",
       "  background-color: #eff9fb;\n",
       "  color: #000000;\n",
       "}\n",
       "#T_fa7d6_row4_col2 {\n",
       "  background-color: #c7eae3;\n",
       "  color: #000000;\n",
       "}\n",
       "#T_fa7d6_row4_col6 {\n",
       "  background-color: #208843;\n",
       "  color: #f1f1f1;\n",
       "}\n",
       "</style>\n",
       "<table id=\"T_fa7d6\">\n",
       "  <thead>\n",
       "    <tr>\n",
       "      <th class=\"blank level0\" >&nbsp;</th>\n",
       "      <th id=\"T_fa7d6_level0_col0\" class=\"col_heading level0 col0\" >alcohol</th>\n",
       "      <th id=\"T_fa7d6_level0_col1\" class=\"col_heading level0 col1\" >malic_acid</th>\n",
       "      <th id=\"T_fa7d6_level0_col2\" class=\"col_heading level0 col2\" >ash</th>\n",
       "      <th id=\"T_fa7d6_level0_col3\" class=\"col_heading level0 col3\" >alcalinity_of_ash</th>\n",
       "      <th id=\"T_fa7d6_level0_col4\" class=\"col_heading level0 col4\" >magnesium</th>\n",
       "      <th id=\"T_fa7d6_level0_col5\" class=\"col_heading level0 col5\" >total_phenols</th>\n",
       "      <th id=\"T_fa7d6_level0_col6\" class=\"col_heading level0 col6\" >flavanoids</th>\n",
       "      <th id=\"T_fa7d6_level0_col7\" class=\"col_heading level0 col7\" >nonflavanoid_phenols</th>\n",
       "      <th id=\"T_fa7d6_level0_col8\" class=\"col_heading level0 col8\" >proanthocyanins</th>\n",
       "      <th id=\"T_fa7d6_level0_col9\" class=\"col_heading level0 col9\" >color_intensity</th>\n",
       "      <th id=\"T_fa7d6_level0_col10\" class=\"col_heading level0 col10\" >hue</th>\n",
       "      <th id=\"T_fa7d6_level0_col11\" class=\"col_heading level0 col11\" >od280/od315_of_diluted_wines</th>\n",
       "      <th id=\"T_fa7d6_level0_col12\" class=\"col_heading level0 col12\" >proline</th>\n",
       "      <th id=\"T_fa7d6_level0_col13\" class=\"col_heading level0 col13\" >target</th>\n",
       "      <th id=\"T_fa7d6_level0_col14\" class=\"col_heading level0 col14\" >class</th>\n",
       "    </tr>\n",
       "  </thead>\n",
       "  <tbody>\n",
       "    <tr>\n",
       "      <th id=\"T_fa7d6_level0_row0\" class=\"row_heading level0 row0\" >60</th>\n",
       "      <td id=\"T_fa7d6_row0_col0\" class=\"data row0 col0\" >12.330000</td>\n",
       "      <td id=\"T_fa7d6_row0_col1\" class=\"data row0 col1\" >1.100000</td>\n",
       "      <td id=\"T_fa7d6_row0_col2\" class=\"data row0 col2\" >2.280000</td>\n",
       "      <td id=\"T_fa7d6_row0_col3\" class=\"data row0 col3\" >16.000000</td>\n",
       "      <td id=\"T_fa7d6_row0_col4\" class=\"data row0 col4\" >101.000000</td>\n",
       "      <td id=\"T_fa7d6_row0_col5\" class=\"data row0 col5\" >2.050000</td>\n",
       "      <td id=\"T_fa7d6_row0_col6\" class=\"data row0 col6\" >1.090000</td>\n",
       "      <td id=\"T_fa7d6_row0_col7\" class=\"data row0 col7\" >0.630000</td>\n",
       "      <td id=\"T_fa7d6_row0_col8\" class=\"data row0 col8\" >0.410000</td>\n",
       "      <td id=\"T_fa7d6_row0_col9\" class=\"data row0 col9\" >3.270000</td>\n",
       "      <td id=\"T_fa7d6_row0_col10\" class=\"data row0 col10\" >1.250000</td>\n",
       "      <td id=\"T_fa7d6_row0_col11\" class=\"data row0 col11\" >1.670000</td>\n",
       "      <td id=\"T_fa7d6_row0_col12\" class=\"data row0 col12\" >680.000000</td>\n",
       "      <td id=\"T_fa7d6_row0_col13\" class=\"data row0 col13\" >1.000000</td>\n",
       "      <td id=\"T_fa7d6_row0_col14\" class=\"data row0 col14\" >class_1</td>\n",
       "    </tr>\n",
       "    <tr>\n",
       "      <th id=\"T_fa7d6_level0_row1\" class=\"row_heading level0 row1\" >173</th>\n",
       "      <td id=\"T_fa7d6_row1_col0\" class=\"data row1 col0\" >13.710000</td>\n",
       "      <td id=\"T_fa7d6_row1_col1\" class=\"data row1 col1\" >5.650000</td>\n",
       "      <td id=\"T_fa7d6_row1_col2\" class=\"data row1 col2\" >2.450000</td>\n",
       "      <td id=\"T_fa7d6_row1_col3\" class=\"data row1 col3\" >20.500000</td>\n",
       "      <td id=\"T_fa7d6_row1_col4\" class=\"data row1 col4\" >95.000000</td>\n",
       "      <td id=\"T_fa7d6_row1_col5\" class=\"data row1 col5\" >1.680000</td>\n",
       "      <td id=\"T_fa7d6_row1_col6\" class=\"data row1 col6\" >0.610000</td>\n",
       "      <td id=\"T_fa7d6_row1_col7\" class=\"data row1 col7\" >0.520000</td>\n",
       "      <td id=\"T_fa7d6_row1_col8\" class=\"data row1 col8\" >1.060000</td>\n",
       "      <td id=\"T_fa7d6_row1_col9\" class=\"data row1 col9\" >7.700000</td>\n",
       "      <td id=\"T_fa7d6_row1_col10\" class=\"data row1 col10\" >0.640000</td>\n",
       "      <td id=\"T_fa7d6_row1_col11\" class=\"data row1 col11\" >1.740000</td>\n",
       "      <td id=\"T_fa7d6_row1_col12\" class=\"data row1 col12\" >740.000000</td>\n",
       "      <td id=\"T_fa7d6_row1_col13\" class=\"data row1 col13\" >2.000000</td>\n",
       "      <td id=\"T_fa7d6_row1_col14\" class=\"data row1 col14\" >class_2</td>\n",
       "    </tr>\n",
       "    <tr>\n",
       "      <th id=\"T_fa7d6_level0_row2\" class=\"row_heading level0 row2\" >23</th>\n",
       "      <td id=\"T_fa7d6_row2_col0\" class=\"data row2 col0\" >12.850000</td>\n",
       "      <td id=\"T_fa7d6_row2_col1\" class=\"data row2 col1\" >1.600000</td>\n",
       "      <td id=\"T_fa7d6_row2_col2\" class=\"data row2 col2\" >2.520000</td>\n",
       "      <td id=\"T_fa7d6_row2_col3\" class=\"data row2 col3\" >17.800000</td>\n",
       "      <td id=\"T_fa7d6_row2_col4\" class=\"data row2 col4\" >95.000000</td>\n",
       "      <td id=\"T_fa7d6_row2_col5\" class=\"data row2 col5\" >2.480000</td>\n",
       "      <td id=\"T_fa7d6_row2_col6\" class=\"data row2 col6\" >2.370000</td>\n",
       "      <td id=\"T_fa7d6_row2_col7\" class=\"data row2 col7\" >0.260000</td>\n",
       "      <td id=\"T_fa7d6_row2_col8\" class=\"data row2 col8\" >1.460000</td>\n",
       "      <td id=\"T_fa7d6_row2_col9\" class=\"data row2 col9\" >3.930000</td>\n",
       "      <td id=\"T_fa7d6_row2_col10\" class=\"data row2 col10\" >1.090000</td>\n",
       "      <td id=\"T_fa7d6_row2_col11\" class=\"data row2 col11\" >3.630000</td>\n",
       "      <td id=\"T_fa7d6_row2_col12\" class=\"data row2 col12\" >1015.000000</td>\n",
       "      <td id=\"T_fa7d6_row2_col13\" class=\"data row2 col13\" >0.000000</td>\n",
       "      <td id=\"T_fa7d6_row2_col14\" class=\"data row2 col14\" >class_0</td>\n",
       "    </tr>\n",
       "    <tr>\n",
       "      <th id=\"T_fa7d6_level0_row3\" class=\"row_heading level0 row3\" >98</th>\n",
       "      <td id=\"T_fa7d6_row3_col0\" class=\"data row3 col0\" >12.370000</td>\n",
       "      <td id=\"T_fa7d6_row3_col1\" class=\"data row3 col1\" >1.070000</td>\n",
       "      <td id=\"T_fa7d6_row3_col2\" class=\"data row3 col2\" >2.100000</td>\n",
       "      <td id=\"T_fa7d6_row3_col3\" class=\"data row3 col3\" >18.500000</td>\n",
       "      <td id=\"T_fa7d6_row3_col4\" class=\"data row3 col4\" >88.000000</td>\n",
       "      <td id=\"T_fa7d6_row3_col5\" class=\"data row3 col5\" >3.520000</td>\n",
       "      <td id=\"T_fa7d6_row3_col6\" class=\"data row3 col6\" >3.750000</td>\n",
       "      <td id=\"T_fa7d6_row3_col7\" class=\"data row3 col7\" >0.240000</td>\n",
       "      <td id=\"T_fa7d6_row3_col8\" class=\"data row3 col8\" >1.950000</td>\n",
       "      <td id=\"T_fa7d6_row3_col9\" class=\"data row3 col9\" >4.500000</td>\n",
       "      <td id=\"T_fa7d6_row3_col10\" class=\"data row3 col10\" >1.040000</td>\n",
       "      <td id=\"T_fa7d6_row3_col11\" class=\"data row3 col11\" >2.770000</td>\n",
       "      <td id=\"T_fa7d6_row3_col12\" class=\"data row3 col12\" >660.000000</td>\n",
       "      <td id=\"T_fa7d6_row3_col13\" class=\"data row3 col13\" >1.000000</td>\n",
       "      <td id=\"T_fa7d6_row3_col14\" class=\"data row3 col14\" >class_1</td>\n",
       "    </tr>\n",
       "    <tr>\n",
       "      <th id=\"T_fa7d6_level0_row4\" class=\"row_heading level0 row4\" >99</th>\n",
       "      <td id=\"T_fa7d6_row4_col0\" class=\"data row4 col0\" >12.290000</td>\n",
       "      <td id=\"T_fa7d6_row4_col1\" class=\"data row4 col1\" >3.170000</td>\n",
       "      <td id=\"T_fa7d6_row4_col2\" class=\"data row4 col2\" >2.210000</td>\n",
       "      <td id=\"T_fa7d6_row4_col3\" class=\"data row4 col3\" >18.000000</td>\n",
       "      <td id=\"T_fa7d6_row4_col4\" class=\"data row4 col4\" >88.000000</td>\n",
       "      <td id=\"T_fa7d6_row4_col5\" class=\"data row4 col5\" >2.850000</td>\n",
       "      <td id=\"T_fa7d6_row4_col6\" class=\"data row4 col6\" >2.990000</td>\n",
       "      <td id=\"T_fa7d6_row4_col7\" class=\"data row4 col7\" >0.450000</td>\n",
       "      <td id=\"T_fa7d6_row4_col8\" class=\"data row4 col8\" >2.810000</td>\n",
       "      <td id=\"T_fa7d6_row4_col9\" class=\"data row4 col9\" >2.300000</td>\n",
       "      <td id=\"T_fa7d6_row4_col10\" class=\"data row4 col10\" >1.420000</td>\n",
       "      <td id=\"T_fa7d6_row4_col11\" class=\"data row4 col11\" >2.830000</td>\n",
       "      <td id=\"T_fa7d6_row4_col12\" class=\"data row4 col12\" >406.000000</td>\n",
       "      <td id=\"T_fa7d6_row4_col13\" class=\"data row4 col13\" >1.000000</td>\n",
       "      <td id=\"T_fa7d6_row4_col14\" class=\"data row4 col14\" >class_1</td>\n",
       "    </tr>\n",
       "  </tbody>\n",
       "</table>\n"
      ],
      "text/plain": [
       "<pandas.io.formats.style.Styler at 0x73a2260a10d0>"
      ]
     },
     "execution_count": 25,
     "metadata": {},
     "output_type": "execute_result"
    }
   ],
   "source": [
    "#Example using a color gradient to display data values in the DataFrame\n",
    "# For max/min use highlight_max()/highlight_min()\n",
    "wine_df.sample(5).style.background_gradient(subset=[\"alcohol\", \"ash\", \"flavanoids\"], cmap=\"BuGn\").highlight_max(subset=[\"magnesium\"], color=\"red\")"
   ]
  },
  {
   "cell_type": "code",
   "execution_count": 26,
   "metadata": {},
   "outputs": [
    {
     "data": {
      "text/html": [
       "<style type=\"text/css\">\n",
       "#T_e5cb1_row0_col0 {\n",
       "  background-color: #2f9858;\n",
       "  color: #f1f1f1;\n",
       "}\n",
       "#T_e5cb1_row0_col1 {\n",
       "  background-color: #e53592;\n",
       "  color: #f1f1f1;\n",
       "}\n",
       "#T_e5cb1_row0_col2, #T_e5cb1_row1_col2, #T_e5cb1_row4_col2, #T_e5cb1_row6_col2, #T_e5cb1_row8_col2 {\n",
       "  background-color: #cdece6;\n",
       "  color: #000000;\n",
       "}\n",
       "#T_e5cb1_row0_col3, #T_e5cb1_row1_col3, #T_e5cb1_row2_col3, #T_e5cb1_row3_col3, #T_e5cb1_row4_col3, #T_e5cb1_row7_col3, #T_e5cb1_row8_col3 {\n",
       "  background-color: #cda0cd;\n",
       "  color: #000000;\n",
       "}\n",
       "#T_e5cb1_row1_col0, #T_e5cb1_row3_col2, #T_e5cb1_row7_col2, #T_e5cb1_row9_col0, #T_e5cb1_row9_col2 {\n",
       "  background-color: #65c2a3;\n",
       "  color: #000000;\n",
       "}\n",
       "#T_e5cb1_row1_col1 {\n",
       "  background-color: #eae5f1;\n",
       "  color: #000000;\n",
       "}\n",
       "#T_e5cb1_row2_col0 {\n",
       "  background-color: #b8e4db;\n",
       "  color: #000000;\n",
       "}\n",
       "#T_e5cb1_row2_col1 {\n",
       "  background-color: #d0abd3;\n",
       "  color: #000000;\n",
       "}\n",
       "#T_e5cb1_row2_col2, #T_e5cb1_row8_col0 {\n",
       "  background-color: #f7fcfd;\n",
       "  color: #000000;\n",
       "}\n",
       "#T_e5cb1_row3_col0, #T_e5cb1_row6_col0 {\n",
       "  background-color: #d6f0ee;\n",
       "  color: #000000;\n",
       "}\n",
       "#T_e5cb1_row3_col1, #T_e5cb1_row9_col1 {\n",
       "  background-color: #dcc9e2;\n",
       "  color: #000000;\n",
       "}\n",
       "#T_e5cb1_row4_col0, #T_e5cb1_row7_col0 {\n",
       "  background-color: #48b27f;\n",
       "  color: #f1f1f1;\n",
       "}\n",
       "#T_e5cb1_row4_col1 {\n",
       "  background-color: #d81b6a;\n",
       "  color: #f1f1f1;\n",
       "}\n",
       "#T_e5cb1_row5_col0, #T_e5cb1_row5_col2 {\n",
       "  background-color: #00441b;\n",
       "  color: #f1f1f1;\n",
       "  background-color: yellow;\n",
       "}\n",
       "#T_e5cb1_row5_col1, #T_e5cb1_row5_col3 {\n",
       "  background-color: #67001f;\n",
       "  color: #f1f1f1;\n",
       "}\n",
       "#T_e5cb1_row6_col1, #T_e5cb1_row7_col1 {\n",
       "  background-color: #df64af;\n",
       "  color: #f1f1f1;\n",
       "}\n",
       "#T_e5cb1_row6_col3 {\n",
       "  background-color: #df2179;\n",
       "  color: #f1f1f1;\n",
       "}\n",
       "#T_e5cb1_row8_col1, #T_e5cb1_row9_col3 {\n",
       "  background-color: #f7f4f9;\n",
       "  color: #000000;\n",
       "}\n",
       "</style>\n",
       "<table id=\"T_e5cb1\">\n",
       "  <thead>\n",
       "    <tr>\n",
       "      <th class=\"blank level0\" >&nbsp;</th>\n",
       "      <th id=\"T_e5cb1_level0_col0\" class=\"col_heading level0 col0\" >sepal length (cm)</th>\n",
       "      <th id=\"T_e5cb1_level0_col1\" class=\"col_heading level0 col1\" >sepal width (cm)</th>\n",
       "      <th id=\"T_e5cb1_level0_col2\" class=\"col_heading level0 col2\" >petal length (cm)</th>\n",
       "      <th id=\"T_e5cb1_level0_col3\" class=\"col_heading level0 col3\" >petal width (cm)</th>\n",
       "      <th id=\"T_e5cb1_level0_col4\" class=\"col_heading level0 col4\" >target</th>\n",
       "      <th id=\"T_e5cb1_level0_col5\" class=\"col_heading level0 col5\" >class</th>\n",
       "    </tr>\n",
       "  </thead>\n",
       "  <tbody>\n",
       "    <tr>\n",
       "      <th id=\"T_e5cb1_level0_row0\" class=\"row_heading level0 row0\" >0</th>\n",
       "      <td id=\"T_e5cb1_row0_col0\" class=\"data row0 col0\" >5.100000</td>\n",
       "      <td id=\"T_e5cb1_row0_col1\" class=\"data row0 col1\" >3.500000</td>\n",
       "      <td id=\"T_e5cb1_row0_col2\" class=\"data row0 col2\" >1.400000</td>\n",
       "      <td id=\"T_e5cb1_row0_col3\" class=\"data row0 col3\" >0.200000</td>\n",
       "      <td id=\"T_e5cb1_row0_col4\" class=\"data row0 col4\" >0.000000</td>\n",
       "      <td id=\"T_e5cb1_row0_col5\" class=\"data row0 col5\" >setosa</td>\n",
       "    </tr>\n",
       "    <tr>\n",
       "      <th id=\"T_e5cb1_level0_row1\" class=\"row_heading level0 row1\" >1</th>\n",
       "      <td id=\"T_e5cb1_row1_col0\" class=\"data row1 col0\" >4.900000</td>\n",
       "      <td id=\"T_e5cb1_row1_col1\" class=\"data row1 col1\" >3.000000</td>\n",
       "      <td id=\"T_e5cb1_row1_col2\" class=\"data row1 col2\" >1.400000</td>\n",
       "      <td id=\"T_e5cb1_row1_col3\" class=\"data row1 col3\" >0.200000</td>\n",
       "      <td id=\"T_e5cb1_row1_col4\" class=\"data row1 col4\" >0.000000</td>\n",
       "      <td id=\"T_e5cb1_row1_col5\" class=\"data row1 col5\" >setosa</td>\n",
       "    </tr>\n",
       "    <tr>\n",
       "      <th id=\"T_e5cb1_level0_row2\" class=\"row_heading level0 row2\" >2</th>\n",
       "      <td id=\"T_e5cb1_row2_col0\" class=\"data row2 col0\" >4.700000</td>\n",
       "      <td id=\"T_e5cb1_row2_col1\" class=\"data row2 col1\" >3.200000</td>\n",
       "      <td id=\"T_e5cb1_row2_col2\" class=\"data row2 col2\" >1.300000</td>\n",
       "      <td id=\"T_e5cb1_row2_col3\" class=\"data row2 col3\" >0.200000</td>\n",
       "      <td id=\"T_e5cb1_row2_col4\" class=\"data row2 col4\" >0.000000</td>\n",
       "      <td id=\"T_e5cb1_row2_col5\" class=\"data row2 col5\" >setosa</td>\n",
       "    </tr>\n",
       "    <tr>\n",
       "      <th id=\"T_e5cb1_level0_row3\" class=\"row_heading level0 row3\" >3</th>\n",
       "      <td id=\"T_e5cb1_row3_col0\" class=\"data row3 col0\" >4.600000</td>\n",
       "      <td id=\"T_e5cb1_row3_col1\" class=\"data row3 col1\" >3.100000</td>\n",
       "      <td id=\"T_e5cb1_row3_col2\" class=\"data row3 col2\" >1.500000</td>\n",
       "      <td id=\"T_e5cb1_row3_col3\" class=\"data row3 col3\" >0.200000</td>\n",
       "      <td id=\"T_e5cb1_row3_col4\" class=\"data row3 col4\" >0.000000</td>\n",
       "      <td id=\"T_e5cb1_row3_col5\" class=\"data row3 col5\" >setosa</td>\n",
       "    </tr>\n",
       "    <tr>\n",
       "      <th id=\"T_e5cb1_level0_row4\" class=\"row_heading level0 row4\" >4</th>\n",
       "      <td id=\"T_e5cb1_row4_col0\" class=\"data row4 col0\" >5.000000</td>\n",
       "      <td id=\"T_e5cb1_row4_col1\" class=\"data row4 col1\" >3.600000</td>\n",
       "      <td id=\"T_e5cb1_row4_col2\" class=\"data row4 col2\" >1.400000</td>\n",
       "      <td id=\"T_e5cb1_row4_col3\" class=\"data row4 col3\" >0.200000</td>\n",
       "      <td id=\"T_e5cb1_row4_col4\" class=\"data row4 col4\" >0.000000</td>\n",
       "      <td id=\"T_e5cb1_row4_col5\" class=\"data row4 col5\" >setosa</td>\n",
       "    </tr>\n",
       "    <tr>\n",
       "      <th id=\"T_e5cb1_level0_row5\" class=\"row_heading level0 row5\" >5</th>\n",
       "      <td id=\"T_e5cb1_row5_col0\" class=\"data row5 col0\" >5.400000</td>\n",
       "      <td id=\"T_e5cb1_row5_col1\" class=\"data row5 col1\" >3.900000</td>\n",
       "      <td id=\"T_e5cb1_row5_col2\" class=\"data row5 col2\" >1.700000</td>\n",
       "      <td id=\"T_e5cb1_row5_col3\" class=\"data row5 col3\" >0.400000</td>\n",
       "      <td id=\"T_e5cb1_row5_col4\" class=\"data row5 col4\" >0.000000</td>\n",
       "      <td id=\"T_e5cb1_row5_col5\" class=\"data row5 col5\" >setosa</td>\n",
       "    </tr>\n",
       "    <tr>\n",
       "      <th id=\"T_e5cb1_level0_row6\" class=\"row_heading level0 row6\" >6</th>\n",
       "      <td id=\"T_e5cb1_row6_col0\" class=\"data row6 col0\" >4.600000</td>\n",
       "      <td id=\"T_e5cb1_row6_col1\" class=\"data row6 col1\" >3.400000</td>\n",
       "      <td id=\"T_e5cb1_row6_col2\" class=\"data row6 col2\" >1.400000</td>\n",
       "      <td id=\"T_e5cb1_row6_col3\" class=\"data row6 col3\" >0.300000</td>\n",
       "      <td id=\"T_e5cb1_row6_col4\" class=\"data row6 col4\" >0.000000</td>\n",
       "      <td id=\"T_e5cb1_row6_col5\" class=\"data row6 col5\" >setosa</td>\n",
       "    </tr>\n",
       "    <tr>\n",
       "      <th id=\"T_e5cb1_level0_row7\" class=\"row_heading level0 row7\" >7</th>\n",
       "      <td id=\"T_e5cb1_row7_col0\" class=\"data row7 col0\" >5.000000</td>\n",
       "      <td id=\"T_e5cb1_row7_col1\" class=\"data row7 col1\" >3.400000</td>\n",
       "      <td id=\"T_e5cb1_row7_col2\" class=\"data row7 col2\" >1.500000</td>\n",
       "      <td id=\"T_e5cb1_row7_col3\" class=\"data row7 col3\" >0.200000</td>\n",
       "      <td id=\"T_e5cb1_row7_col4\" class=\"data row7 col4\" >0.000000</td>\n",
       "      <td id=\"T_e5cb1_row7_col5\" class=\"data row7 col5\" >setosa</td>\n",
       "    </tr>\n",
       "    <tr>\n",
       "      <th id=\"T_e5cb1_level0_row8\" class=\"row_heading level0 row8\" >8</th>\n",
       "      <td id=\"T_e5cb1_row8_col0\" class=\"data row8 col0\" >4.400000</td>\n",
       "      <td id=\"T_e5cb1_row8_col1\" class=\"data row8 col1\" >2.900000</td>\n",
       "      <td id=\"T_e5cb1_row8_col2\" class=\"data row8 col2\" >1.400000</td>\n",
       "      <td id=\"T_e5cb1_row8_col3\" class=\"data row8 col3\" >0.200000</td>\n",
       "      <td id=\"T_e5cb1_row8_col4\" class=\"data row8 col4\" >0.000000</td>\n",
       "      <td id=\"T_e5cb1_row8_col5\" class=\"data row8 col5\" >setosa</td>\n",
       "    </tr>\n",
       "    <tr>\n",
       "      <th id=\"T_e5cb1_level0_row9\" class=\"row_heading level0 row9\" >9</th>\n",
       "      <td id=\"T_e5cb1_row9_col0\" class=\"data row9 col0\" >4.900000</td>\n",
       "      <td id=\"T_e5cb1_row9_col1\" class=\"data row9 col1\" >3.100000</td>\n",
       "      <td id=\"T_e5cb1_row9_col2\" class=\"data row9 col2\" >1.500000</td>\n",
       "      <td id=\"T_e5cb1_row9_col3\" class=\"data row9 col3\" >0.100000</td>\n",
       "      <td id=\"T_e5cb1_row9_col4\" class=\"data row9 col4\" >0.000000</td>\n",
       "      <td id=\"T_e5cb1_row9_col5\" class=\"data row9 col5\" >setosa</td>\n",
       "    </tr>\n",
       "  </tbody>\n",
       "</table>\n"
      ],
      "text/plain": [
       "<pandas.io.formats.style.Styler at 0x73a22606df10>"
      ]
     },
     "execution_count": 26,
     "metadata": {},
     "output_type": "execute_result"
    }
   ],
   "source": [
    "iris_df.head(10).style.background_gradient(subset=['sepal length (cm)', 'petal length (cm)'], cmap='BuGn').background_gradient(subset=[\n",
    "    'sepal width (cm)', 'petal width (cm)'], cmap='PuRd').highlight_max(subset=['sepal length (cm)', 'petal length (cm)'], color='yellow')"
   ]
  },
  {
   "cell_type": "markdown",
   "metadata": {},
   "source": [
    "# Scatter Plots\n",
    "The x-y plot or scatter plot represents the pairs of data from two datasets."
   ]
  },
  {
   "cell_type": "markdown",
   "metadata": {},
   "source": [
    "### Matplotlib\n",
    "Use **scatter** or use **plt.subplots** to stylize our plot with title and labels."
   ]
  },
  {
   "cell_type": "code",
   "execution_count": null,
   "metadata": {},
   "outputs": [],
   "source": [
    "# create a figure and axis\n",
    "fig, ax = plt.subplots()\n",
    "\n",
    "# scatter the sepal_length against the sepal_width\n",
    "\n",
    "# set a title and labels\n",
    "ax.set_title('Iris Dataset')\n",
    "ax.set_xlabel('sepal length (cm)')\n",
    "ax.set_ylabel('sepal width (cm)')"
   ]
  },
  {
   "cell_type": "markdown",
   "metadata": {},
   "source": [
    "The plot would have more meaning if the data points are colored by class.  In Matplotlib we can create a color dictionary and then assign a color for each class."
   ]
  },
  {
   "cell_type": "code",
   "execution_count": null,
   "metadata": {},
   "outputs": [],
   "source": [
    "# create color dictionary\n",
    "colors = {'setosa':'r', 'versicolor':'g', 'virginica':'b'}\n",
    "# create a figure and axis\n",
    "fig, ax = plt.subplots()\n",
    "# plot each data-point\n",
    "for c in np.unique(iris_df['class']):\n",
    "    ax.scatter(iris_df['sepal length (cm)'].loc[iris_df['class']==c], \n",
    "               iris_df['sepal width (cm)'].loc[iris_df['class']==c],\n",
    "               s=10*iris_df['petal length (cm)'].loc[iris_df['class']==c],\n",
    "               alpha=0.5,\n",
    "               color=colors[c],\n",
    "               label = c)\n",
    "\n",
    "# set a title and labels\n",
    "ax.set_title('Iris Dataset')\n",
    "ax.set_xlabel('sepal length (cm)')\n",
    "ax.set_ylabel('sepal width (cm)')\n",
    "ax.legend(loc='best')"
   ]
  },
  {
   "cell_type": "markdown",
   "metadata": {},
   "source": [
    "### Pandas \n",
    "To create a scatter plot in Pandas we can call **dataset.plot.scatter()**. The axes labels will automatically be created from the DataFrame column names."
   ]
  },
  {
   "cell_type": "code",
   "execution_count": null,
   "metadata": {},
   "outputs": [],
   "source": [
    "# create Pandas scatter plot\n"
   ]
  },
  {
   "cell_type": "code",
   "execution_count": null,
   "metadata": {},
   "outputs": [],
   "source": [
    "# Add coloring to plot by class \n",
    "# Note here we use the numeric target and not the class names\n",
    "iris_df.plot.scatter(x='sepal length (cm)', \n",
    "                     y='sepal width (cm)', \n",
    "                     title='Iris Dataset', \n",
    "                     c='target',\n",
    "                     colormap='viridis')"
   ]
  },
  {
   "cell_type": "markdown",
   "metadata": {},
   "source": [
    "### Seaborn\n",
    "Seaborn has a **.scatterplot** method to create a scatterplot similar to Pandas."
   ]
  },
  {
   "cell_type": "code",
   "execution_count": null,
   "metadata": {},
   "outputs": [],
   "source": [
    "# create a seaborn scatter plot\n",
    "\n",
    "plt.title('Iris Dataset')"
   ]
  },
  {
   "cell_type": "code",
   "execution_count": null,
   "metadata": {},
   "outputs": [],
   "source": [
    "# add style to scatterplot by coloring by class\n",
    "sns.scatterplot(x='sepal length (cm)', \n",
    "                y='sepal width (cm)',\n",
    "                data=iris_df,\n",
    "                hue = 'class',\n",
    "                size='petal length (cm)')\n",
    "plt.title('Iris Dataset')\n",
    "#plt.legend(loc='upper center', bbox_to_anchor=(1.3, 1.0),\n",
    "#          fancybox=True, shadow=True, ncol=1)\n",
    "plt.tight_layout()"
   ]
  },
  {
   "cell_type": "markdown",
   "metadata": {},
   "source": [
    "# Line Chart\n",
    "One of the most fundamental plots - a line chart to display a series of data points. "
   ]
  },
  {
   "cell_type": "markdown",
   "metadata": {},
   "source": [
    "### Matplotlib\n",
    "Call line-chart with the method **plot**.  Matplotlib will require a loop to plot multiple columns in one graph."
   ]
  },
  {
   "cell_type": "code",
   "execution_count": null,
   "metadata": {},
   "outputs": [],
   "source": [
    "# get columns to plot\n",
    "columns = iris_df.columns.drop(['target', 'class'])\n",
    "# create x data\n",
    "\n",
    "# create figure and axis\n",
    "fig, ax = plt.subplots()\n",
    "# plot each column\n",
    "\n",
    "# set title and legend\n",
    "ax.set_title('Iris Dataset')\n",
    "ax.legend()"
   ]
  },
  {
   "cell_type": "markdown",
   "metadata": {},
   "source": [
    "## Pandas \n",
    "Create line-chart with **.plot.line()** without any loops :) "
   ]
  },
  {
   "cell_type": "code",
   "execution_count": null,
   "metadata": {},
   "outputs": [],
   "source": [
    "# pandas line chart\n"
   ]
  },
  {
   "cell_type": "markdown",
   "metadata": {},
   "source": [
    "### Seaborn\n",
    "Line-chart with seaborn calls method sns.lineplot "
   ]
  },
  {
   "cell_type": "code",
   "execution_count": null,
   "metadata": {},
   "outputs": [],
   "source": [
    "# seaborn line chart \n"
   ]
  },
  {
   "cell_type": "markdown",
   "metadata": {},
   "source": [
    "# Histograms\n",
    "Histograms are useful for a large number of unique values in a dataset.  The values are sorted into intervals, called bins.  From histograms we can understand the distribution (aka frequency) of the data."
   ]
  },
  {
   "cell_type": "markdown",
   "metadata": {},
   "source": [
    "### Matplotlib\n",
    "Use method **hist**."
   ]
  },
  {
   "cell_type": "code",
   "execution_count": null,
   "metadata": {},
   "outputs": [],
   "source": [
    "# create figure and axis\n",
    "fig, ax = plt.subplots()\n",
    "# plot histogram\n",
    "\n",
    "# set title and labels\n",
    "ax.set_title('Wine Alcohol')\n",
    "ax.set_xlabel('Alcohol')\n",
    "ax.set_ylabel('Frequency')"
   ]
  },
  {
   "cell_type": "markdown",
   "metadata": {},
   "source": [
    "### Pandas\n",
    "Create Pandas hist with **plot.hist** - no parameters required."
   ]
  },
  {
   "cell_type": "code",
   "execution_count": null,
   "metadata": {},
   "outputs": [],
   "source": [
    "# histogram using Pandas\n"
   ]
  },
  {
   "cell_type": "code",
   "execution_count": null,
   "metadata": {},
   "outputs": [],
   "source": [
    "# Also easily create mulitple plots \n",
    "iris_df.drop(['target', 'class'], axis=1).plot.hist(subplots=True, layout=(2,2), figsize=(10, 10), bins=20)\n"
   ]
  },
  {
   "cell_type": "markdown",
   "metadata": {},
   "source": [
    "### Seaborn \n",
    "Seaborn uses method **sns.distplot** with many additional parameters."
   ]
  },
  {
   "cell_type": "code",
   "execution_count": null,
   "metadata": {},
   "outputs": [],
   "source": [
    "# sns histogram\n",
    "\n",
    "plt.ylabel('Frequency')\n",
    "plt.title('Wine Alcohol')\n"
   ]
  },
  {
   "cell_type": "code",
   "execution_count": null,
   "metadata": {},
   "outputs": [],
   "source": [
    "# sns histogram with kernel density estimate\n",
    "\n",
    "plt.ylabel('Distribution')\n",
    "plt.title('Wine Alcohol')\n"
   ]
  },
  {
   "cell_type": "markdown",
   "metadata": {},
   "source": [
    "### Plotnine\n",
    "Use **geom_histogram**"
   ]
  },
  {
   "cell_type": "code",
   "execution_count": null,
   "metadata": {},
   "outputs": [],
   "source": []
  },
  {
   "cell_type": "markdown",
   "metadata": {},
   "source": [
    "Like seaborn, plotnine can be extended to display the probability density using **geom_density()**."
   ]
  },
  {
   "cell_type": "code",
   "execution_count": null,
   "metadata": {},
   "outputs": [],
   "source": [
    "(ggplot(wine_df)\n",
    "    + aes(x='alcohol', fill='class')\n",
    "    + geom_density(adjust=1/4, alpha=0.5)\n",
    "    + labs(title='Wine Alcohol')\n",
    ")"
   ]
  },
  {
   "cell_type": "markdown",
   "metadata": {},
   "source": [
    "# Bar Charts\n",
    "Bar charts illustrate data corresponding to given labels or discrete numeric values (like pies charts).  These charts are good when there is low cardinality (not a lot of categories)"
   ]
  },
  {
   "cell_type": "markdown",
   "metadata": {},
   "source": [
    "### Matplotlib\n",
    "Use the **bar** method, with the caveat that you need to manually calculate the frequencies of the categories you are interested in which can be done using **value_counts**."
   ]
  },
  {
   "cell_type": "code",
   "execution_count": null,
   "metadata": {},
   "outputs": [],
   "source": [
    "# create a figure and axis \n",
    "fig, ax = plt.subplots() \n",
    "# count the occurrence of each class \n",
    "data = wine_df['class'].value_counts() \n",
    "# get x and y data \n",
    "alcohol = data.index \n",
    "frequency = data.values \n",
    "# create bar chart \n",
    "\n",
    "# set title and labels \n",
    "ax.set_title('Wine Classes') \n",
    "ax.set_xlabel('Class') \n",
    "ax.set_ylabel('Count')"
   ]
  },
  {
   "cell_type": "markdown",
   "metadata": {},
   "source": [
    "# Pandas\n",
    "Use **plot.bar()** method, but like with matplotlib this method requires that we need to count the occurrences using **value_counts** and sort using **sort_index**."
   ]
  },
  {
   "cell_type": "code",
   "execution_count": null,
   "metadata": {},
   "outputs": [],
   "source": [
    "\n",
    "plt.title('Wine Classes')\n",
    "plt.xlabel('Class')\n",
    "plt.ylabel('Count')\n"
   ]
  },
  {
   "cell_type": "code",
   "execution_count": null,
   "metadata": {},
   "outputs": [],
   "source": [
    "wine_df['class'].value_counts().sort_index().plot.barh(color=['red', 'blue', 'green'])\n",
    "plt.title('Wine Classes')\n",
    "plt.ylabel('Class')\n",
    "plt.xlabel('Count')"
   ]
  },
  {
   "cell_type": "code",
   "execution_count": null,
   "metadata": {},
   "outputs": [],
   "source": [
    "plt.title('Wine Classes with the Highest Alcohol (on Average)')\n",
    "plt.xlabel('Class')\n",
    "plt.ylabel('Average Alcohol')"
   ]
  },
  {
   "cell_type": "markdown",
   "metadata": {},
   "source": [
    "### Seaborn\n",
    "Use **.countplot** to create a bar-chart, no need to do any data manipulation :) "
   ]
  },
  {
   "cell_type": "code",
   "execution_count": null,
   "metadata": {},
   "outputs": [],
   "source": [
    "\n",
    "plt.title('Wine Class')"
   ]
  },
  {
   "cell_type": "markdown",
   "metadata": {},
   "source": [
    "# Box Plots\n",
    "Box plots (and violin plots) are excellent for visualizing descriptive statistics of a dataset since they show the range, interquartile range, median, mode, outliers and all quartiles."
   ]
  },
  {
   "cell_type": "markdown",
   "metadata": {},
   "source": [
    "### Matplotlib \n",
    "Use the method **boxplot()**.  In order to display multiple columns in one figure we need to construct an array of data."
   ]
  },
  {
   "cell_type": "code",
   "execution_count": null,
   "metadata": {},
   "outputs": [],
   "source": [
    "# get columns to plot\n",
    "columns = iris_df.columns.drop(['target', 'class'])\n",
    "data = []\n",
    "for column in columns:\n",
    "    data.append(iris_df[column])\n",
    "# create figure and axis\n",
    "fig, ax = plt.subplots()\n",
    "# plot each column\n",
    "\n",
    "\n",
    "# set title and legend\n",
    "ax.set_title('Iris Dataset')\n",
    "ax.set_xticklabels(columns, rotation=45)\n",
    "ax.set_xlabel('Feature')\n",
    "ax.set_ylabel('cm')"
   ]
  },
  {
   "cell_type": "markdown",
   "metadata": {},
   "source": [
    "### Pandas\n",
    "Use **.boxplot()** to create boxplot from Pandas dataframe."
   ]
  },
  {
   "cell_type": "code",
   "execution_count": null,
   "metadata": {},
   "outputs": [],
   "source": [
    "\n",
    "plt.title('Iris Dataset')\n",
    "plt.xlabel('Feature')\n",
    "plt.ylabel('cm')"
   ]
  },
  {
   "cell_type": "markdown",
   "metadata": {},
   "source": [
    "### Seaborn\n",
    "Just need **sns.boxplot()** method to create amazing boxplots"
   ]
  },
  {
   "cell_type": "code",
   "execution_count": null,
   "metadata": {},
   "outputs": [],
   "source": [
    "\n",
    "plt.title('Iris Dataset')\n",
    "plt.xlabel('Feature')\n",
    "plt.ylabel('cm')"
   ]
  },
  {
   "cell_type": "code",
   "execution_count": null,
   "metadata": {},
   "outputs": [],
   "source": [
    "# Boxplots are also useful for viewing the different statistics of a feature broken down by class\n",
    "\n",
    "plt.title('Iris Dataset')"
   ]
  },
  {
   "cell_type": "code",
   "execution_count": null,
   "metadata": {},
   "outputs": [],
   "source": [
    "# Alternative to box plot is a violin plot showing \n",
    "# the kernel density estimation underlying the distribution\n",
    "sns.violinplot(x=\"class\", y=\"sepal length (cm)\", data=iris_df)\n",
    "plt.title('Iris Dataset')"
   ]
  },
  {
   "cell_type": "markdown",
   "metadata": {},
   "source": [
    "# Pie Charts\n",
    "Represent data with a small number of labels and given relative frequencies.  "
   ]
  },
  {
   "cell_type": "markdown",
   "metadata": {},
   "source": [
    "### Matplotlib\n",
    "Use **plt.pie** method to create a pie chart."
   ]
  },
  {
   "cell_type": "code",
   "execution_count": null,
   "metadata": {},
   "outputs": [],
   "source": [
    "#first create data arrays \n",
    "data = wine_df['class'].value_counts()\n",
    "labels = data.index.tolist()\n",
    "sizes = data.values\n",
    "colors = ['yellowgreen', 'lightcoral', 'lightskyblue']\n",
    "explode = (0.1, 0, 0)  # explode 1st slice\n",
    "\n",
    "\n",
    "\n",
    "plt.tight_layout()\n",
    "plt.axis('equal')\n",
    "plt.show()"
   ]
  },
  {
   "cell_type": "markdown",
   "metadata": {},
   "source": [
    "### Pandas\n",
    "Use the method **.plot.pie** on a dataframe."
   ]
  },
  {
   "cell_type": "code",
   "execution_count": null,
   "metadata": {},
   "outputs": [],
   "source": []
  },
  {
   "cell_type": "markdown",
   "metadata": {},
   "source": [
    "### Seaborn \n",
    "Sorry but seaborn does not have a piechart method :( "
   ]
  },
  {
   "cell_type": "markdown",
   "metadata": {},
   "source": [
    "# Heatmaps\n",
    "Heatmaps can visually represent a matrix.  The colors represent the numbers or elements of the matrix.  They are used for showing covariance and correlation matrices. Pandas **.corr()** allows you to easily create a correlation matrix or you can use numpy **np.corrcoef** method."
   ]
  },
  {
   "cell_type": "markdown",
   "metadata": {},
   "source": [
    "### Matplotlib\n",
    "Use Pandas correlation **.corr()** to easily get the correlation of features inside a dataframe and results in a correlation matrix."
   ]
  },
  {
   "cell_type": "code",
   "execution_count": null,
   "metadata": {},
   "outputs": [],
   "source": [
    "# get correlation matrix\n",
    "corr = iris_df.corr()\n",
    "fig, ax = plt.subplots()\n",
    "# create heatmap\n",
    "\n",
    "# set labels\n",
    "ax.set_xticks(np.arange(len(corr.columns)))\n",
    "ax.set_yticks(np.arange(len(corr.columns)))\n",
    "ax.set_xticklabels(corr.columns)\n",
    "ax.set_yticklabels(corr.columns)\n",
    "\n",
    "# Rotate the tick labels and set their alignment.\n",
    "plt.setp(ax.get_xticklabels(), rotation=45, ha=\"right\",\n",
    "         rotation_mode=\"anchor\")\n",
    "\n",
    "# Loop over data dimensions and create text annotations.\n",
    "for i in range(len(corr.columns)):\n",
    "    for j in range(len(corr.columns)):\n",
    "        text = ax.text(j, i, np.around(corr.iloc[i, j], decimals=2),\n",
    "                       ha=\"center\", va=\"center\", color=\"black\")"
   ]
  },
  {
   "cell_type": "markdown",
   "metadata": {},
   "source": [
    "### Pandas \n",
    "Although Pandas lets you quickly calculate the correlation matrix, you will need Matplotlib or Seaborn to plot the heatmap."
   ]
  },
  {
   "cell_type": "markdown",
   "metadata": {},
   "source": [
    "### Seaborn\n",
    "The best and easiest way to create a heatmap!! "
   ]
  },
  {
   "cell_type": "code",
   "execution_count": null,
   "metadata": {},
   "outputs": [],
   "source": []
  },
  {
   "cell_type": "code",
   "execution_count": null,
   "metadata": {},
   "outputs": [],
   "source": [
    "# Add a mask so you don't show redundant information\n"
   ]
  },
  {
   "cell_type": "markdown",
   "metadata": {},
   "source": [
    "# Faceting \n",
    "Faceting allows you to break the data variables up across multiple subplots and\n",
    "combine into a single feature.  This will allow you to quickly explore and\n",
    "visualize your datasets. Faceting is most easily accomplished in Seaborn."
   ]
  },
  {
   "cell_type": "markdown",
   "metadata": {},
   "source": [
    "### Seaborn\n",
    "Faceting in Seaborn uses a FacetGrid,  You first define the **FacetGrid** and pass the data and column which you want to use to split your data.   Then use the **map** function on the FacetGrid object to make the multiple subplots with the different slices of data."
   ]
  },
  {
   "cell_type": "code",
   "execution_count": null,
   "metadata": {},
   "outputs": [],
   "source": [
    "# Create FacetGrid\n",
    "\n",
    "# use map function with a histogram"
   ]
  },
  {
   "cell_type": "markdown",
   "metadata": {},
   "source": [
    "# Pairwise Data Compairson\n",
    "Pandas and Seaborn both have methods to plot pairwise relationships in your dataset - which can be extremely useful - just be careful for large datasets. "
   ]
  },
  {
   "cell_type": "markdown",
   "metadata": {},
   "source": [
    "### Pandas \n",
    "Pandas has a **scatter_matrix** which makes it easy to \n"
   ]
  },
  {
   "cell_type": "code",
   "execution_count": null,
   "metadata": {},
   "outputs": [],
   "source": [
    "fig, ax = plt.subplots(figsize=(12,12))\n",
    "#img = pd.plotting.scatter_matrix()"
   ]
  },
  {
   "cell_type": "markdown",
   "metadata": {},
   "source": [
    "### Seaborn \n",
    "Seaborn also has a very useful **pairplot** method that automatically plots a grid of pairwise relationships in the dataset.  "
   ]
  },
  {
   "cell_type": "code",
   "execution_count": null,
   "metadata": {},
   "outputs": [],
   "source": []
  },
  {
   "cell_type": "code",
   "execution_count": null,
   "metadata": {},
   "outputs": [],
   "source": []
  }
 ],
 "metadata": {
  "kernelspec": {
   "display_name": "base",
   "language": "python",
   "name": "python3"
  },
  "language_info": {
   "codemirror_mode": {
    "name": "ipython",
    "version": 3
   },
   "file_extension": ".py",
   "mimetype": "text/x-python",
   "name": "python",
   "nbconvert_exporter": "python",
   "pygments_lexer": "ipython3",
   "version": "3.11.7"
  }
 },
 "nbformat": 4,
 "nbformat_minor": 4
}
